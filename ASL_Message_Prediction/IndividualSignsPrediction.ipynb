{
 "cells": [
  {
   "cell_type": "code",
   "execution_count": null,
   "metadata": {},
   "outputs": [],
   "source": [
    "import sklearn\n",
    "import numpy as np\n",
    "import pandas as pd"
   ]
  },
  {
   "cell_type": "code",
   "execution_count": null,
   "metadata": {},
   "outputs": [],
   "source": [
    "import cv2\n",
    "import os\n",
    "from time import time"
   ]
  },
  {
   "cell_type": "code",
   "execution_count": null,
   "metadata": {},
   "outputs": [],
   "source": [
    "letters = \"ABCDEFGHIJKLMNOPQRSTUVWXYZ\"\n",
    "letter_number = {}\n",
    "cont = 0\n",
    "for letter in letters:\n",
    "    letter_number[letter] = cont\n",
    "    cont += 1\n",
    "    \n",
    "# el 9(J) y el 25(Z) están cogidos\n",
    "# aunque no van a aparecer nunca voy a dejarlos con su neurona\n",
    "# por lo que ahora tendré que poner 3 neuronas más de salida:\n",
    "# la de la Z (aunque no se use, como la de J), la de SPACE y la de STOP\n",
    "letter_number[\"_SPACE\"] = 26\n",
    "letter_number[\"_STOP\"] = 27\n",
    "\n",
    "letters_list = []\n",
    "for letra in letters:\n",
    "    letters_list.append(letra)\n",
    "letters_list.append(\"_SPACE\")\n",
    "letters_list.append(\"_STOP\")\n",
    "\n",
    "\n",
    "number_letter = {}\n",
    "for gakoa in letter_number:\n",
    "    number_letter[letter_number.get(gakoa)] = gakoa"
   ]
  },
  {
   "cell_type": "code",
   "execution_count": null,
   "metadata": {},
   "outputs": [],
   "source": []
  },
  {
   "cell_type": "code",
   "execution_count": null,
   "metadata": {},
   "outputs": [],
   "source": []
  },
  {
   "cell_type": "markdown",
   "metadata": {},
   "source": [
    "## In the following block, the used model is loaded. Depending on the folder where it has been placed, it may be necessary to change the path."
   ]
  },
  {
   "cell_type": "markdown",
   "metadata": {},
   "source": [
    "## En el siguiente bloque se carga el modelo utilizado, depende de la carpeta en la que se ha colocado es necesario cambiar el enlace"
   ]
  },
  {
   "cell_type": "code",
   "execution_count": null,
   "metadata": {},
   "outputs": [],
   "source": [
    "modelo = tf.keras.models.load_model(\"final_model.h5\")"
   ]
  },
  {
   "cell_type": "code",
   "execution_count": null,
   "metadata": {},
   "outputs": [],
   "source": []
  },
  {
   "cell_type": "markdown",
   "metadata": {},
   "source": [
    "### The following blocks are directly part of the program. The first one contains a function that is used in the program, and by executing the second block, the process starts.\n",
    "\n",
    "### When executing the second block, the process starts and the computer's camera feed is displayed on three screens. One screen shows everything captured, with a blue square; another screen only shows what is inside the blue square, and a third screen is a small display that shows the content inside the blue square after resizing it and converting the color to grayscale.\n",
    "\n",
    "### To start the program, it is necessary to select the screen that captures the entire image, titled 'Copy', and then hold down the 2 key on the keyboard (sometimes it takes a little while to respond). The process does not stop with the stop symbol; it is necessary to hold down the 2 key again.\n",
    "\n",
    "### To exit the screens, simply hold down the 1 key or the q key."
   ]
  },
  {
   "cell_type": "markdown",
   "metadata": {},
   "source": [
    "### Los siguientes bloques son directamente parte del programa. El primero contiene una función que utiliza el programa y al ejecutar el segundo se pone en marcha el proceso.\n",
    "\n",
    "### Al ejecutar el segundo se pone en marcha el proceso, aparece lo que capta la cámara del ordenador en tres pantallas (una dnde se ve todo lo que capta, con un cuadrado azul; otra dónde solo se ve lo que está dentro del cuadrado azul´y una última muy pequeña que enseña lo captado dentro del bloque azul después de reducir su tamaño y convertir el color a escala de grises).\n",
    "\n",
    "### Para poner en marcha el programa es necesario seleccionar la pantalla que capta toda la imágen, la titulada como 'Copy', y después mantener pulsado el botón 2 del teclado (a veces le cuesta un poco). El proceso no se detiene con el símbolo de parada, es necesario volver a mantener pulsado el botón 2.\n",
    "\n",
    "### Para salir de las pantallas basta con mantener pulsado la tecla 1 o la tecla q."
   ]
  },
  {
   "cell_type": "code",
   "execution_count": null,
   "metadata": {},
   "outputs": [],
   "source": [
    "def prediccion_y_confianza(imagen):\n",
    "    \n",
    "    # preprocesado con la imagen original\n",
    "    imagen = cv2.cvtColor(imagen, cv2.COLOR_BGR2GRAY)\n",
    "    imagen = cv2.resize(imagen, (56, 56), interpolation = cv2.INTER_AREA)\n",
    "    \n",
    "    # preparación para predecir la imagen\n",
    "    imagen = imagen.reshape(1, 56, 56, 1)\n",
    "    imagen = imagen / 255\n",
    "    \n",
    "    # prediccion y confianza\n",
    "    valores = modelo.predict(imagen)\n",
    "    i_pred = np.argmax(valores[0])\n",
    "    confianza = valores[0][i_pred]\n",
    "    confianza = confianza * 100\n",
    "    prediccion = number_letter[i_pred]\n",
    "    \n",
    "    return prediccion, confianza"
   ]
  },
  {
   "cell_type": "code",
   "execution_count": null,
   "metadata": {},
   "outputs": [],
   "source": [
    "cap = cv2.VideoCapture(0)\n",
    "\n",
    "t = time()\n",
    "empieza = False\n",
    "\n",
    "while cap.isOpened():\n",
    "    \n",
    "    ret, frame = cap.read()\n",
    "    frame = cv2.flip(frame, 1)\n",
    "    \n",
    "    roi = frame[100 : 400, 320 : 620]\n",
    "\n",
    "    copy = frame.copy()\n",
    "    cv2.rectangle(copy, (320, 100), (620, 400), (255, 0, 0), 5)\n",
    "\n",
    "    \n",
    "    if cv2.waitKey(1) & 0xFF == ord(\"q\"):\n",
    "        break\n",
    "        \n",
    "    if cv2.waitKey(1) & 0xFF == ord(\"1\"):\n",
    "        break\n",
    "        \n",
    "    if cv2.waitKey(1) & 0xFF == ord(\"2\"): empieza = True\n",
    "    \n",
    "    if empieza:\n",
    "        \n",
    "        #cv2.putText(copy, \"ANALIZANDO\", (400, 400), cv2.FONT_HERSHEY_COMPLEX, 1, (0, 255, 0), 3)\n",
    "        \n",
    "        if cv2.waitKey(1) & 0xFF == ord(\"3\"): empieza = False\n",
    "        \n",
    "        now = time()\n",
    "        dif = now - t\n",
    "        \n",
    "        if dif > 0.2:\n",
    "            pred, conf = prediccion_y_confianza(roi)\n",
    "            \n",
    "            cv2.putText(copy, \"pred: \" + str(pred) + \"   conf: \" + str(round(conf, 2)) + \"%\",\n",
    "                        (150, 80), cv2.FONT_HERSHEY_COMPLEX, 1, (0, 255, 0), 3)\n",
    "            \n",
    "    else: cv2.putText(copy, \"EN PAUSA\", (400, 400), cv2.FONT_HERSHEY_COMPLEX, 1, (0, 255, 0), 3)\n",
    " \n",
    "    cv2.imshow(\"ROI\", roi)\n",
    "    cv2.imshow(\"Pantalla\", copy)\n",
    "    \n",
    "    roi_copy = roi.copy()\n",
    "    gray = cv2.cvtColor(roi_copy, cv2.COLOR_BGR2GRAY)\n",
    "    gray_rs = cv2.resize(gray, (28, 28), interpolation = cv2.INTER_AREA)\n",
    "    cv2.imshow(\"Procesado\", gray_rs)\n",
    "\n",
    "\n",
    "cap.release()\n",
    "cv2.destroyAllWindows()  "
   ]
  }
 ],
 "metadata": {
  "kernelspec": {
   "display_name": "Python 3",
   "language": "python",
   "name": "python3"
  },
  "language_info": {
   "codemirror_mode": {
    "name": "ipython",
    "version": 3
   },
   "file_extension": ".py",
   "mimetype": "text/x-python",
   "name": "python",
   "nbconvert_exporter": "python",
   "pygments_lexer": "ipython3",
   "version": "3.6.9"
  }
 },
 "nbformat": 4,
 "nbformat_minor": 4
}
