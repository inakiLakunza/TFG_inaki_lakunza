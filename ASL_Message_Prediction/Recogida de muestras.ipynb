{
 "cells": [
  {
   "cell_type": "code",
   "execution_count": null,
   "metadata": {},
   "outputs": [],
   "source": [
    "import cv2\n",
    "import os\n",
    "from time import time\n",
    "import uuid"
   ]
  },
  {
   "cell_type": "markdown",
   "metadata": {},
   "source": [
    "## This is the program I used for collecting samples, and it works as follows:\n",
    "\n",
    "#### Initially, you need to enter the name of the symbol you are going to collect (e.g., C), and then enter the name of the folder where you want to save the samples. The folder will be named after the symbol you entered earlier.\n",
    "\n",
    "#### You need to collect 1000 samples for each symbol with different backgrounds and lighting conditions. To create my database, I collected samples in various locations. For each location, I repeated the same process 26 times, once for each symbol, using the same general folder name each time (e.g., roomBilbao2). I repeated this process 12 times.\n",
    "\n",
    "#### Once you see what the camera captures on the screen, select the screen titled \"Copia\" and press the number 2 key on the keyboard to start collecting the samples. To exit, simply hold down the number 1 key or q after collecting the 1000 samples.\n",
    "\n",
    "#### The code assigns a unique name to each image, so if you repeat the process with the same names, there will be 2000 images in the folder. If you want to avoid this and, for example, delete the first 1000 samples, you can delete the folder before collecting the samples for the second time.\n",
    "\n",
    "#### Each computer has an assigned index for its webcam or additional camera. The first line of the following code block has the number 0, which is the number my computer uses. Another computer may use a different number."
   ]
  },
  {
   "cell_type": "markdown",
   "metadata": {},
   "source": [
    "## Este es el programa que he utilizado para la recogida de muestras, funciona de la siguiente manera:\n",
    "\n",
    "#### Al principio será necesario introducir el nombre del símbolo que vamos a recoger (C, por ejemplo, y para los símbolos auxiliares yo he utilizado _space_ y _stop_), y, después, es necesario introducir el nombre de la carpeta en la que queremos guardar la carpeta (la cual tendrá el nombre del símbolo que hemos introducido anteriormente) que contiene las muestras recogidas.\n",
    "#### Es necesario recoger 1000 muestras símbolo por símbolo con distintos fondos e iluminaciones. Para crear mi base de datos, he recogido muestras en distintas ubicaciones, entonces, en cada ubicación he utilizado el siguiente bloque 26 veces, una para cada símbolo, utilizando el mismo nombre de la carpeta general las 26 veces (habitacionBilbao2, por ejemplo), y he repetido el mismo proceso 12 veces.\n",
    "#### Una vez que se ve lo que capta la cámara en pantalla, hay que seleccionar la pantalla titulada \"Copia\", y pulsar el botón número 2 en el teclado para que empiece a recoger las muestras. Para salir, una vez recogidas las 1000 muestras, basta con mantener pulsado el botón 1 o q.\n",
    "#### El bloque asigna un nombre único a cada imagen, por lo que si se repite el proceso con los mismos nombres habrá 2000 imágenes en la carpeta. Si se desea evitar ésto y, por ejemplo, borrar las 1000 primeras, yo suelo borrar la carpeta antes de recoger las mismas muestras por segunda vez.\n",
    "#### Cada ordenador tiene asignado un índice a su cámara web, o cámara adicional, la primera línea del siguiente bloque tiene el número 0, el cual es el número que utiliza mi ordenador, puede que otro ordenador utilice otro."
   ]
  },
  {
   "cell_type": "code",
   "execution_count": null,
   "metadata": {},
   "outputs": [],
   "source": [
    "cap = cv2.VideoCapture(0)\n",
    "\n",
    "\n",
    "#----------------------------------\n",
    "#----------------------------------\n",
    "letra = input(\"Sign (in my case, for the signs of space and stop I used the names '_space_' and '_stop_', and the letter otherwise, A, for example): \").upper()\n",
    "carpeta = input(\"Please provide the name of the folder where the samples will be saved (e.g., 'roomHouse1').\")\n",
    "#----------------------------------\n",
    "#----------------------------------\n",
    "\n",
    "\n",
    "directory = os.path.join(os.getcwd(), \"all_images\", carpeta , letra)\n",
    "cont = 0\n",
    "t = time()\n",
    "empieza = False\n",
    "terminado = False\n",
    "\n",
    "while cap.isOpened():\n",
    "    \n",
    "    ret, frame = cap.read()\n",
    "    frame = cv2.flip(frame, 1)\n",
    "    \n",
    "    roi = frame[100 : 400, 320 : 620]\n",
    "    \n",
    "    \n",
    "    \n",
    "    #cv2.imshow(\"WebCam\", frame)\n",
    "    #cv2.imshow(\"ROI\", roi)\n",
    "    copy = frame.copy()\n",
    "    cv2.rectangle(copy, (320, 100), (620, 400), (255, 0, 0), 5)\n",
    "    #cv2.imshow(\"Copia\", copy)\n",
    "    \n",
    "    if cv2.waitKey(1) & 0xFF == ord(\"q\"):\n",
    "        break\n",
    "        \n",
    "    if cv2.waitKey(1) & 0xFF == ord(\"1\"):\n",
    "        break\n",
    "        \n",
    "    if cv2.waitKey(1) & 0xFF == ord(\"2\"): empieza = True\n",
    "\n",
    "        \n",
    "    if empieza:\n",
    "        \n",
    "        if not os.path.exists(directory):\n",
    "            #print(\"No existe\")\n",
    "            os.makedirs(directory)\n",
    "               \n",
    "        if cont < 1000:\n",
    "            \n",
    "            now = time()\n",
    "            dif = now - t\n",
    "            \n",
    "            if dif > 0.01:\n",
    "                               \n",
    "                #cv2.imwrite( directory + \"/\" + str(cont) + \".jpg\", roi)\n",
    "                \n",
    "                unique_filename = str(uuid.uuid4())\n",
    "                cv2.imwrite( directory + \"/\" + unique_filename + \".jpg\", gray_rs)\n",
    "                cont += 1\n",
    "                #print(cont)\n",
    "                t = now\n",
    "         \n",
    "        else:\n",
    "            #print(\"FUERA!!!!!!!!!!!!!!!!!!!\")\n",
    "            terminado = True\n",
    "            empieza = False\n",
    "\n",
    "    if terminado: cv2.putText(copy, \"Finished\", (400, 400), cv2.FONT_HERSHEY_COMPLEX, 1, (0, 255, 0), 1)\n",
    "    else:  cv2.putText(copy, str(cont), (400, 400), cv2.FONT_HERSHEY_COMPLEX, 1, (0, 255, 0), 1)\n",
    "        \n",
    "    cv2.imshow(\"ROI\", roi)\n",
    "    cv2.imshow(\"Copia\", copy)\n",
    "    \n",
    "    roi_copy = roi.copy()\n",
    "    gray = cv2.cvtColor(roi_copy, cv2.COLOR_BGR2GRAY)\n",
    "    gray_rs = cv2.resize(gray, (56, 56), interpolation = cv2.INTER_AREA)\n",
    "    cv2.imshow(\"Procesado\", gray_rs)\n",
    "        \n",
    "cap.release()\n",
    "cv2.destroyAllWindows()"
   ]
  },
  {
   "cell_type": "code",
   "execution_count": null,
   "metadata": {},
   "outputs": [],
   "source": []
  },
  {
   "cell_type": "code",
   "execution_count": null,
   "metadata": {},
   "outputs": [],
   "source": []
  },
  {
   "cell_type": "markdown",
   "metadata": {},
   "source": [
    "### The following blocks are used to create a .csv file with all the images from the selected folder and their respective labels, similar to the database provided by Kaggle. It is necessary to create a .csv file for each folder with the 26 symbols (a file that contains all the images from the folder titled 'roomBilbao2', for example)."
   ]
  },
  {
   "cell_type": "markdown",
   "metadata": {},
   "source": [
    "### Los siguientes bloques sirven para crear un archivo .csv con todas las imágenes de la carpeta seleccionda y sus respectivas etiquetas (de la misma forma que la base de datos proporcionada por Kaggle). Es necesario crear un archivo .csv por cada carpeta con los 26 símbolos (un archivo que contiene todas las imágenes de la carpeta titulada 'habitaciónBilbao2', por ejemplo)."
   ]
  },
  {
   "cell_type": "code",
   "execution_count": null,
   "metadata": {},
   "outputs": [],
   "source": [
    "letters = \"ABCDEFGHIJKLMNOPQRSTUVWXYZ\"\n",
    "letter_number = {}\n",
    "cont = 0\n",
    "for letter in letters:\n",
    "    letter_number[letter] = cont\n",
    "    cont += 1\n",
    "    \n",
    "# el 9(J) y el 25(Z) están cogidos\n",
    "# aunque no van a aparecer nunca voy a dejarlos con su neurona\n",
    "# por lo que ahora tendré que poner 3 neuronas más de salida:\n",
    "# la de la Z (aunque no se use, como la de J), la de SPACE y la de STOP\n",
    "letter_number[\"_SPACE\"] = 26\n",
    "letter_number[\"_STOP\"] = 27\n",
    "\n",
    "letters_list = []\n",
    "for letra in letters:\n",
    "    letters_list.append(letra)\n",
    "letters_list.append(\"_SPACE\")\n",
    "letters_list.append(\"_STOP\")"
   ]
  },
  {
   "cell_type": "code",
   "execution_count": null,
   "metadata": {},
   "outputs": [],
   "source": [
    "main_array = None\n",
    "labels = np.array([])\n",
    "cont = -1\n",
    "\n",
    "carpeta = input(\"Please provide the name of the folder where the samples have been saved (e.g., 'roomHouse1').\")\n",
    "\n",
    "\n",
    "for letter in letters_list:\n",
    "    if letter == \"J\" or letter == \"Z\": continue\n",
    "    \n",
    "    path = os.path.join(\"all_images\", carpeta , letter)\n",
    "    \n",
    "    files = os.listdir(path)\n",
    "    \n",
    "    for name in files:\n",
    "        img = Image.open(os.path.join(path, name))\n",
    "\n",
    "        arr = np.asarray(img)\n",
    "        arr = arr.reshape(3136)\n",
    "        cont += 1\n",
    "        if cont == 0:\n",
    "            main_array = arr\n",
    "            continue\n",
    "        main_array = np.vstack((main_array, arr))\n",
    "        \n",
    "    labels = np.append(labels, np.ones(1000)*letter_number[letter])"
   ]
  },
  {
   "cell_type": "code",
   "execution_count": null,
   "metadata": {},
   "outputs": [],
   "source": [
    "columns = []\n",
    "for i in range(56*56):\n",
    "    columns.append(i)"
   ]
  },
  {
   "cell_type": "code",
   "execution_count": null,
   "metadata": {},
   "outputs": [],
   "source": [
    "nombre = input(\"Please provide the name of the csv file, without the .csv extension ('Room1', for example)\")\n",
    "\n",
    "\n",
    "nombre_com = os.path.join(\"all_images\", nombre, \".csv\")\n",
    "pd.DataFrame(main_array, columns = columns).to_csv(nombre_com)"
   ]
  }
 ],
 "metadata": {
  "kernelspec": {
   "display_name": "Python 3",
   "language": "python",
   "name": "python3"
  },
  "language_info": {
   "codemirror_mode": {
    "name": "ipython",
    "version": 3
   },
   "file_extension": ".py",
   "mimetype": "text/x-python",
   "name": "python",
   "nbconvert_exporter": "python",
   "pygments_lexer": "ipython3",
   "version": "3.6.9"
  }
 },
 "nbformat": 4,
 "nbformat_minor": 4
}
